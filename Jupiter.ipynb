{
 "cells": [
  {
   "cell_type": "code",
   "execution_count": 22,
   "metadata": {},
   "outputs": [],
   "source": [
    "import json\n",
    "import csv\n",
    "import numpy as np\n",
    "from sklearn.feature_extraction.text import CountVectorizer, TfidfVectorizer\n",
    "from sklearn.model_selection import train_test_split\n",
    "from sklearn.naive_bayes import MultinomialNB\n",
    "from sklearn.metrics import accuracy_score\n",
    "\n"
   ]
  },
  {
   "cell_type": "code",
   "execution_count": 23,
   "metadata": {},
   "outputs": [],
   "source": [
    "file_path = 'data/splits/media/train.tsv'\n",
    "articles = []\n",
    "labels = []\n",
    "with open(file_path, mode='r', encoding='utf-8') as file:\n",
    "    tsv_reader = csv.DictReader(file, delimiter='\\t')\n",
    "    for row in tsv_reader:\n",
    "        articles.append(row[\"ID\"])\n",
    "        labels.append(row[\"bias\"])\n",
    "\n",
    "\n",
    "\n",
    "contents = []\n",
    "for article in articles:\n",
    "    article_path = f'data/jsons/{article}.json' \n",
    "    with open(article_path, 'r') as file:\n",
    "        article_json = json.load(file)\n",
    "    contents.append(article_json[\"content\"])\n",
    "\n",
    "vectorizer = TfidfVectorizer(max_features=1000)  # for example, limit to 1000 features\n",
    "X_train = vectorizer.fit_transform(contents)\n",
    "y_train = np.array(labels)"
   ]
  },
  {
   "cell_type": "code",
   "execution_count": 24,
   "metadata": {},
   "outputs": [],
   "source": [
    "file_path = 'data/splits/media/test.tsv'\n",
    "articles = []\n",
    "y_test = []\n",
    "with open(file_path, mode='r', encoding='utf-8') as file:\n",
    "    tsv_reader = csv.DictReader(file, delimiter='\\t')\n",
    "    for row in tsv_reader:\n",
    "        articles.append(row[\"ID\"])\n",
    "        y_test.append(row[\"bias\"])\n",
    "\n",
    "\n",
    "contents = []\n",
    "for article in articles:\n",
    "    article_path = f'data/jsons/{article}.json' \n",
    "    with open(article_path, 'r') as file:\n",
    "        article_json = json.load(file)\n",
    "    contents.append(article_json[\"content\"])\n",
    "vectorizer = TfidfVectorizer(max_features=1000)  # for example, limit to 1000 features\n",
    "X_test = vectorizer.fit_transform(contents)\n",
    "y_test = np.array(y_test)"
   ]
  },
  {
   "cell_type": "code",
   "execution_count": null,
   "metadata": {},
   "outputs": [],
   "source": []
  },
  {
   "cell_type": "code",
   "execution_count": 25,
   "metadata": {},
   "outputs": [
    {
     "name": "stdout",
     "output_type": "stream",
     "text": [
      "Accuracy: 0.35384615384615387\n"
     ]
    }
   ],
   "source": [
    "clf = MultinomialNB()\n",
    "clf.fit(X_train, y_train)\n",
    "\n",
    "y_pred = clf.predict(X_test)\n",
    "print(\"Accuracy:\", accuracy_score(y_test, y_pred))"
   ]
  }
 ],
 "metadata": {
  "kernelspec": {
   "display_name": "base",
   "language": "python",
   "name": "python3"
  },
  "language_info": {
   "codemirror_mode": {
    "name": "ipython",
    "version": 3
   },
   "file_extension": ".py",
   "mimetype": "text/x-python",
   "name": "python",
   "nbconvert_exporter": "python",
   "pygments_lexer": "ipython3",
   "version": "3.11.5"
  }
 },
 "nbformat": 4,
 "nbformat_minor": 2
}
